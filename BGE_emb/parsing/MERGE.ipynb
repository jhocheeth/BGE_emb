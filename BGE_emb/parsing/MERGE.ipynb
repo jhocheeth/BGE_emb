{
 "cells": [
  {
   "cell_type": "markdown",
   "id": "49ee17e1",
   "metadata": {},
   "source": [
    "Merge the triplets"
   ]
  },
  {
   "cell_type": "code",
   "execution_count": null,
   "id": "49f35725-9321-4e82-8a79-18f379f724b6",
   "metadata": {},
   "outputs": [],
   "source": [
    "import json\n",
    "import random\n",
    "\n",
    "# File paths\n",
    "file1 = \"/home/jh537/Clinical_Trial_Embending/Clinical_Trial_data/Clinical_Trial_Triplet_v3/Train/ctg-triplets.jsonl\"\n",
    "file2 = \"/home/jh537/Clinical_Trial_Embending/Clinical_Trial_data/Clinical_Trial_Triplet_v3/Train/triplet_UMLS_no_numbers.jsonl\"\n",
    "output_file = \"/home/jh537/Clinical_Trial_Embending/Clinical_Trial_data/Clinical_Trial_Triplet_v3/Train/all_triplets.jsonl\"\n",
    "\n",
    "# Function to merge two JSONL files and randomize the order\n",
    "def merge_and_randomize_jsonl(file1_path, file2_path, output_path):\n",
    "    try:\n",
    "        merged_entries = []\n",
    "\n",
    "        # Read first file\n",
    "        with open(file1_path, 'r') as infile1:\n",
    "            for line in infile1:\n",
    "                merged_entries.append(json.loads(line.strip()))\n",
    "\n",
    "        # Read second file\n",
    "        with open(file2_path, 'r') as infile2:\n",
    "            for line in infile2:\n",
    "                merged_entries.append(json.loads(line.strip()))\n",
    "\n",
    "        # Randomize the order of entries\n",
    "        random.shuffle(merged_entries)\n",
    "\n",
    "        # Write back to the output file\n",
    "        with open(output_path, 'w') as outfile:\n",
    "            for entry in merged_entries:\n",
    "                outfile.write(json.dumps(entry) + '\\n')\n",
    "\n",
    "        print(f\"Files merged and randomized. Output saved to {output_path}.\")\n",
    "    except Exception as e:\n",
    "        print(f\"Error merging and randomizing JSONL files: {e}\")\n",
    "\n",
    "# Run the script\n",
    "merge_and_randomize_jsonl(file1, file2, output_file)\n"
   ]
  },
  {
   "cell_type": "markdown",
   "id": "0acf8e13-a9db-4d9b-9337-72a5aa6943c9",
   "metadata": {},
   "source": [
    "Remove duplicates without considering categories"
   ]
  },
  {
   "cell_type": "code",
   "execution_count": null,
   "id": "e7e01beb-6f24-4bfb-a9e7-7807d6065e6d",
   "metadata": {},
   "outputs": [],
   "source": [
    "import json\n",
    "\n",
    "# File path\n",
    "input_file_path = '/home/jh537/Clinical_Trial_Embending/Clinical_Trial_data/Clinical_Trial_Triplet_v3/Train/all_triplets.jsonl'\n",
    "\n",
    "# Set to track unique query-pos pairs\n",
    "unique_pairs = set()\n",
    "filtered_triplets = []\n",
    "\n",
    "# Load the input file and filter duplicates\n",
    "with open(input_file_path, 'r') as input_file:\n",
    "    for line in input_file:\n",
    "        triplet = json.loads(line.strip())\n",
    "        query = triplet['query']\n",
    "        pos_list = triplet['pos']\n",
    "\n",
    "        # Generate all unique query-pos pairs (ignoring category)\n",
    "        for pos in pos_list:\n",
    "            pair = tuple(sorted([query, pos]))  # Sort to handle pos-query equivalence\n",
    "            if pair not in unique_pairs:\n",
    "                unique_pairs.add(pair)\n",
    "                filtered_triplets.append(triplet)\n",
    "                break  # Only keep the first triplet for this pair\n",
    "\n",
    "# Overwrite the input file with filtered triplets\n",
    "with open(input_file_path, 'w') as output_file:\n",
    "    for triplet in filtered_triplets:\n",
    "        output_file.write(json.dumps(triplet) + '\\n')\n",
    "\n",
    "print(f\"Duplicates removed from {input_file_path}, only unique query-pos pairs retained.\")\n"
   ]
  },
  {
   "cell_type": "markdown",
   "id": "e67aa396-65ed-4f3b-b640-05f842330b2a",
   "metadata": {},
   "source": [
    "Create a SY file and remove them from training "
   ]
  },
  {
   "cell_type": "code",
   "execution_count": null,
   "id": "e1f8cea8-f194-4ac6-a776-eeda162bfbb0",
   "metadata": {
    "scrolled": true
   },
   "outputs": [],
   "source": [
    "import json\n",
    "\n",
    "# File paths\n",
    "input_file_path = '/home/jh537/Clinical_Trial_Embending/Clinical_Trial_data/Clinical_Trial_Triplet_v3/Train/triplet_UMLS_no_numbers.jsonl'\n",
    "output_file_path = '/home/jh537/Clinical_Trial_Embending/Clinical_Trial_data/Clinical_Trial_Triplet_v3/Test/SY_triplets.jsonl'\n",
    "\n",
    "# Filter entries with category 'SY'\n",
    "filtered_triplets = []\n",
    "remaining_triplets = []\n",
    "with open(input_file_path, 'r') as input_file:\n",
    "    for line in input_file:\n",
    "        triplet = json.loads(line.strip())\n",
    "        if triplet.get('category') == 'SY':\n",
    "            filtered_triplets.append(triplet)\n",
    "        else:\n",
    "            remaining_triplets.append(triplet)\n",
    "\n",
    "# Save the filtered entries to a new file\n",
    "with open(output_file_path, 'w') as output_file:\n",
    "    for triplet in filtered_triplets:\n",
    "        output_file.write(json.dumps(triplet) + '\\n')\n",
    "\n",
    "# Overwrite the input file with remaining entries\n",
    "with open(input_file_path, 'w') as input_file:\n",
    "    for triplet in remaining_triplets:\n",
    "        input_file.write(json.dumps(triplet) + '\\n')\n",
    "\n",
    "print(f\"Filtered entries with category 'SY' saved to {output_file_path}\")\n",
    "print(f\"Input file updated to exclude 'SY' category entries\")\n"
   ]
  },
  {
   "cell_type": "markdown",
   "id": "abe9f16a-142a-4bce-9f44-9652c31a4561",
   "metadata": {},
   "source": [
    "Create a testing file "
   ]
  },
  {
   "cell_type": "code",
   "execution_count": null,
   "id": "f1fad9ca-e595-49f0-92bf-5ff94a357fe6",
   "metadata": {},
   "outputs": [],
   "source": [
    "import json\n",
    "import random\n",
    "\n",
    "# File paths\n",
    "input_file_path = '/home/jh537/Clinical_Trial_Embending/Clinical_Trial_data/Clinical_Trial_Triplet_v3/Train/all_triplets.jsonl'\n",
    "output_file_path = '/home/jh537/Clinical_Trial_Embending/Clinical_Trial_data/Clinical_Trial_Triplet_v3/Test/test_all_triplets.jsonl'\n",
    "\n",
    "# Number of entries to sample\n",
    "sample_size = 400000\n",
    "\n",
    "# Load all entries from the input file\n",
    "with open(input_file_path, 'r') as input_file:\n",
    "    triplets = [line.strip() for line in input_file]\n",
    "\n",
    "# Ensure sample size does not exceed the total number of entries\n",
    "if sample_size > len(triplets):\n",
    "    raise ValueError(f\"Sample size ({sample_size}) exceeds the total number of entries ({len(triplets)})\")\n",
    "\n",
    "# Randomly sample the entries\n",
    "random_sample = set(random.sample(triplets, sample_size))  # Use a set for faster lookups\n",
    "\n",
    "# Identify the remaining entries\n",
    "remaining_triplets = [triplet for triplet in triplets if triplet not in random_sample]\n",
    "\n",
    "# Save the sampled entries to the output file\n",
    "with open(output_file_path, 'w') as output_file:\n",
    "    output_file.writelines(triplet + '\\n' for triplet in random_sample)\n",
    "\n",
    "# Overwrite the input file with the remaining entries\n",
    "with open(input_file_path, 'w') as input_file:\n",
    "    input_file.writelines(triplet + '\\n' for triplet in remaining_triplets)\n",
    "\n",
    "print(f\"Randomly sampled {sample_size} entries saved to {output_file_path}\")\n",
    "print(f\"Input file updated to exclude the sampled entries\")"
   ]
  },
  {
   "cell_type": "markdown",
   "id": "1b39386a",
   "metadata": {},
   "source": [
    "Preview file"
   ]
  },
  {
   "cell_type": "code",
   "execution_count": null,
   "id": "8f02b8c0-8e8a-4a16-9a28-c32041b65ece",
   "metadata": {
    "scrolled": true
   },
   "outputs": [],
   "source": [
    "import json\n",
    "\n",
    "# Load the JSONL data from the file\n",
    "input_file = '/home/jh537/Clinical_Trial_Embending/Clinical_Trial_data/Clinical_Trial_Triplet_v3/Train/all_triplets.jsonl'\n",
    "\n",
    "# Read all lines from the input file\n",
    "with open(input_file, 'r') as f:\n",
    "    lines = f.readlines()\n",
    "\n",
    "# Print the length of the file\n",
    "print(f'Number of entries in the file: {len(lines)}')\n",
    "\n",
    "# Print the head of the file (first 5 entries)\n",
    "for i in range(min(200, len(lines))):\n",
    "    print(json.loads(lines[i]))"
   ]
  },
  {
   "cell_type": "markdown",
   "id": "0753371e-a2cc-46a4-9975-6ea6c77680c4",
   "metadata": {},
   "source": [
    "Number of entries per category"
   ]
  },
  {
   "cell_type": "code",
   "execution_count": null,
   "id": "9a4b61b6-f387-4fe0-95fa-f403a619c535",
   "metadata": {},
   "outputs": [],
   "source": [
    "import json\n",
    "from collections import Counter\n",
    "\n",
    "# File path\n",
    "file_path = '/home/jh537/Clinical_Trial_Embending/Clinical_Trial_data/Clinical_Trial_Triplet_v3/Train/all_triplets.jsonl'\n",
    "\n",
    "# Initialize a counter for categories\n",
    "category_counts = Counter()\n",
    "\n",
    "# Read the file and count entries per category\n",
    "with open(file_path, 'r') as file:\n",
    "    for line in file:\n",
    "        triplet = json.loads(line.strip())\n",
    "        category = triplet.get('category', 'unknown')  # Default to 'unknown' if category is missing\n",
    "        category_counts[category] += 1\n",
    "\n",
    "# Print the counts for each category\n",
    "for category, count in category_counts.items():\n",
    "    print(f\"Category: {category}, Count: {count}\")\n"
   ]
  }
 ],
 "metadata": {
  "kernelspec": {
   "display_name": "base",
   "language": "python",
   "name": "python3"
  },
  "language_info": {
   "codemirror_mode": {
    "name": "ipython",
    "version": 3
   },
   "file_extension": ".py",
   "mimetype": "text/x-python",
   "name": "python",
   "nbconvert_exporter": "python",
   "pygments_lexer": "ipython3",
   "version": "3.11.4"
  }
 },
 "nbformat": 4,
 "nbformat_minor": 5
}
